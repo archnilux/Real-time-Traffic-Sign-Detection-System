{
  "nbformat": 4,
  "nbformat_minor": 0,
  "metadata": {
    "colab": {
      "provenance": [],
      "machine_shape": "hm",
      "gpuType": "A100"
    },
    "kernelspec": {
      "name": "python3",
      "display_name": "Python 3"
    },
    "language_info": {
      "name": "python"
    },
    "accelerator": "GPU"
  },
  "cells": [
    {
      "cell_type": "code",
      "execution_count": 1,
      "metadata": {
        "colab": {
          "base_uri": "https://localhost:8080/"
        },
        "id": "r0BGWcfZmr5l",
        "outputId": "f58d0ea7-5746-4a96-b8d6-f80ab428c6ba"
      },
      "outputs": [
        {
          "output_type": "stream",
          "name": "stdout",
          "text": [
            "Mounted at /content/drive\n",
            "/content/drive/MyDrive/YOLO_Traffic_Signs\n"
          ]
        }
      ],
      "source": [
        "from google.colab import drive\n",
        "drive.mount('/content/drive')\n",
        "\n",
        "import os\n",
        "project_path = '/content/drive/MyDrive/YOLO_Traffic_Signs'\n",
        "os.makedirs(project_path, exist_ok=True)\n",
        "%cd {project_path}"
      ]
    },
    {
      "cell_type": "code",
      "source": [
        "!pip install ultralytics\n",
        "!pip install roboflow\n",
        "import ultralytics\n",
        "ultralytics.checks()"
      ],
      "metadata": {
        "colab": {
          "base_uri": "https://localhost:8080/"
        },
        "id": "DZM96cRJrU7i",
        "outputId": "504a4d63-de85-4cb5-956d-12eba33ace2b"
      },
      "execution_count": 2,
      "outputs": [
        {
          "output_type": "stream",
          "name": "stdout",
          "text": [
            "Ultralytics 8.3.221 🚀 Python-3.12.12 torch-2.8.0+cu126 CUDA:0 (NVIDIA A100-SXM4-80GB, 81222MiB)\n",
            "Setup complete ✅ (12 CPUs, 167.1 GB RAM, 39.9/235.7 GB disk)\n"
          ]
        }
      ]
    },
    {
      "cell_type": "code",
      "source": [
        "!rm -rf /content/yolo_traffic_dataset\n",
        "!rm -rf /content/traffic_detection\n",
        "\n",
        "import kagglehub\n",
        "path = kagglehub.dataset_download(\"andrewmvd/road-sign-detection\")\n",
        "print(\"Dataset path:\", path)\n",
        "\n",
        "import xml.etree.ElementTree as ET\n",
        "from pathlib import Path\n",
        "import shutil\n",
        "import cv2\n",
        "import random\n",
        "\n",
        "def convert_dataset():\n",
        "    base = \"/content/yolo_dataset\"\n",
        "    for split in ['train', 'val']:\n",
        "        os.makedirs(f\"{base}/{split}/images\", exist_ok=True)\n",
        "        os.makedirs(f\"{base}/{split}/labels\", exist_ok=True)\n",
        "\n",
        "    class_names = ['trafficlight', 'stop', 'speedlimit', 'crosswalk']\n",
        "    xml_files = list(Path(f\"{path}/annotations\").glob(\"*.xml\"))\n",
        "    print(f\"Toplam {len(xml_files)} annotation bulundu\")\n",
        "    random.shuffle(xml_files)\n",
        "    split_idx = int(len(xml_files) * 0.8)\n",
        "    processed = 0\n",
        "\n",
        "    for i, xml_file in enumerate(xml_files):\n",
        "        split = 'train' if i < split_idx else 'val'\n",
        "        img_name = xml_file.stem + '.png'\n",
        "        img_path = Path(f\"{path}/images/{img_name}\")\n",
        "\n",
        "        if not img_path.exists():\n",
        "            continue\n",
        "\n",
        "        img = cv2.imread(str(img_path))\n",
        "        if img is None:\n",
        "            continue\n",
        "\n",
        "        h, w = img.shape[:2]\n",
        "\n",
        "        try:\n",
        "            tree = ET.parse(xml_file)\n",
        "            root = tree.getroot()\n",
        "\n",
        "            # YOLO formatında labels\n",
        "            labels = []\n",
        "\n",
        "            for obj in root.findall('object'):\n",
        "                name = obj.find('name').text.lower()\n",
        "\n",
        "                # Sınıf ID'sini bul (basit mapping)\n",
        "                if 'traffic' in name or 'light' in name:\n",
        "                    class_id = 0\n",
        "                elif 'stop' in name:\n",
        "                    class_id = 1\n",
        "                elif 'speed' in name or 'limit' in name:\n",
        "                    class_id = 2\n",
        "                elif 'cross' in name or 'walk' in name:\n",
        "                    class_id = 3\n",
        "                else:\n",
        "                    class_id = 0  # default\n",
        "\n",
        "                bbox = obj.find('bndbox')\n",
        "                xmin = float(bbox.find('xmin').text)\n",
        "                ymin = float(bbox.find('ymin').text)\n",
        "                xmax = float(bbox.find('xmax').text)\n",
        "                ymax = float(bbox.find('ymax').text)\n",
        "\n",
        "                # YOLO format (normalized)\n",
        "                x_center = (xmin + xmax) / 2 / w\n",
        "                y_center = (ymin + ymax) / 2 / h\n",
        "                width = (xmax - xmin) / w\n",
        "                height = (ymax - ymin) / h\n",
        "\n",
        "                if all(0 <= v <= 1 for v in [x_center, y_center, width, height]):\n",
        "                    labels.append(f\"{class_id} {x_center:.6f} {y_center:.6f} {width:.6f} {height:.6f}\")\n",
        "\n",
        "            if labels:\n",
        "                shutil.copy(img_path, f\"{base}/{split}/images/{img_name}\")\n",
        "                label_path = f\"{base}/{split}/labels/{xml_file.stem}.txt\"\n",
        "                with open(label_path, 'w') as f:\n",
        "                    f.write('\\n'.join(labels))\n",
        "\n",
        "                processed += 1\n",
        "\n",
        "        except Exception as e:\n",
        "            print(f\"Hata: {xml_file.name} - {e}\")\n",
        "            continue\n",
        "\n",
        "    print(f\"\\n {processed} dosya işlendi.\")\n",
        "    return base\n",
        "\n",
        "# Dataset'i dönüştür\n",
        "dataset_path = convert_dataset()"
      ],
      "metadata": {
        "colab": {
          "base_uri": "https://localhost:8080/"
        },
        "id": "WA_RD4qPt9vW",
        "outputId": "f3c15d81-41ae-4097-d0f2-7dcbebb8c7a5"
      },
      "execution_count": 3,
      "outputs": [
        {
          "output_type": "stream",
          "name": "stdout",
          "text": [
            "Downloading from https://www.kaggle.com/api/v1/datasets/download/andrewmvd/road-sign-detection?dataset_version_number=1...\n"
          ]
        },
        {
          "output_type": "stream",
          "name": "stderr",
          "text": [
            "100%|██████████| 218M/218M [00:11<00:00, 19.7MB/s]"
          ]
        },
        {
          "output_type": "stream",
          "name": "stdout",
          "text": [
            "Extracting files...\n"
          ]
        },
        {
          "output_type": "stream",
          "name": "stderr",
          "text": [
            "\n"
          ]
        },
        {
          "output_type": "stream",
          "name": "stdout",
          "text": [
            "Dataset path: /root/.cache/kagglehub/datasets/andrewmvd/road-sign-detection/versions/1\n",
            "Toplam 877 annotation bulundu\n",
            "\n",
            " 877 dosya işlendi.\n"
          ]
        }
      ]
    },
    {
      "cell_type": "code",
      "source": [
        "def verify_dataset(dataset_path):\n",
        "    for split in ['train', 'val']:\n",
        "        img_dir = f\"{dataset_path}/{split}/images\"\n",
        "        lbl_dir = f\"{dataset_path}/{split}/labels\"\n",
        "        images = os.listdir(img_dir)\n",
        "        labels = os.listdir(lbl_dir)\n",
        "        print(f\"\\n{split.upper()}:\")\n",
        "        print(f\"  Images: {len(images)}\")\n",
        "        print(f\"  Labels: {len(labels)}\")\n",
        "\n",
        "        if labels:\n",
        "            with open(f\"{lbl_dir}/{labels[0]}\", 'r') as f:\n",
        "                content = f.read()\n",
        "                print(f\"  Örnek label: {labels[0]}\")\n",
        "                print(f\"  İçerik: {content[:100]}\")\n",
        "\n",
        "verify_dataset(dataset_path)"
      ],
      "metadata": {
        "colab": {
          "base_uri": "https://localhost:8080/"
        },
        "id": "Te8mzUFBuELt",
        "outputId": "5527bef6-4e2d-48aa-e5e6-97a2afec4b4c"
      },
      "execution_count": 4,
      "outputs": [
        {
          "output_type": "stream",
          "name": "stdout",
          "text": [
            "\n",
            "TRAIN:\n",
            "  Images: 701\n",
            "  Labels: 701\n",
            "  Örnek label: road39.txt\n",
            "  İçerik: 0 0.479687 0.468750 0.403125 0.892500\n",
            "\n",
            "VAL:\n",
            "  Images: 176\n",
            "  Labels: 176\n",
            "  Örnek label: road595.txt\n",
            "  İçerik: 2 0.463333 0.413750 0.093333 0.067500\n"
          ]
        }
      ]
    },
    {
      "cell_type": "code",
      "source": [
        "import yaml\n",
        "data = {\n",
        "    'path': dataset_path,\n",
        "    'train': 'train/images',\n",
        "    'val': 'val/images',\n",
        "    'nc': 4,\n",
        "    'names': ['traffic_light', 'stop_sign', 'speed_limit', 'crosswalk']\n",
        "}\n",
        "\n",
        "with open('data.yaml', 'w') as f:\n",
        "    yaml.dump(data, f)\n",
        "\n",
        "print(\"data.yaml oluşturuldu\")"
      ],
      "metadata": {
        "colab": {
          "base_uri": "https://localhost:8080/"
        },
        "id": "Um_SNBFauFiR",
        "outputId": "31bcc805-ddb9-482a-f85b-803c4767a21b"
      },
      "execution_count": 5,
      "outputs": [
        {
          "output_type": "stream",
          "name": "stdout",
          "text": [
            "data.yaml oluşturuldu\n"
          ]
        }
      ]
    },
    {
      "cell_type": "code",
      "source": [
        "from ultralytics import YOLO\n",
        "\n",
        "!rm -rf /root/.cache/ultralytics\n",
        "\n",
        "model = YOLO('yolov8n.pt')\n",
        "\n",
        "results = model.train(\n",
        "    data='data.yaml',\n",
        "    epochs=25,\n",
        "    imgsz=640,\n",
        "    batch=16,\n",
        "    device=0,\n",
        "    project='traffic_v2',\n",
        "    name='run1',\n",
        "    patience=5,\n",
        "    verbose=True  # Detaylı log\n",
        ")\n",
        "\n",
        "print(\"\\n Eğitim tamamlandı.\")"
      ],
      "metadata": {
        "colab": {
          "base_uri": "https://localhost:8080/"
        },
        "id": "jlek60E_uFkZ",
        "outputId": "a719b4bd-604d-4735-f863-97a5847ab660"
      },
      "execution_count": 6,
      "outputs": [
        {
          "output_type": "stream",
          "name": "stdout",
          "text": [
            "Ultralytics 8.3.221 🚀 Python-3.12.12 torch-2.8.0+cu126 CUDA:0 (NVIDIA A100-SXM4-80GB, 81222MiB)\n",
            "\u001b[34m\u001b[1mengine/trainer: \u001b[0magnostic_nms=False, amp=True, augment=False, auto_augment=randaugment, batch=16, bgr=0.0, box=7.5, cache=False, cfg=None, classes=None, close_mosaic=10, cls=0.5, compile=False, conf=None, copy_paste=0.0, copy_paste_mode=flip, cos_lr=False, cutmix=0.0, data=data.yaml, degrees=0.0, deterministic=True, device=0, dfl=1.5, dnn=False, dropout=0.0, dynamic=False, embed=None, epochs=25, erasing=0.4, exist_ok=False, fliplr=0.5, flipud=0.0, format=torchscript, fraction=1.0, freeze=None, half=False, hsv_h=0.015, hsv_s=0.7, hsv_v=0.4, imgsz=640, int8=False, iou=0.7, keras=False, kobj=1.0, line_width=None, lr0=0.01, lrf=0.01, mask_ratio=4, max_det=300, mixup=0.0, mode=train, model=yolov8n.pt, momentum=0.937, mosaic=1.0, multi_scale=False, name=run12, nbs=64, nms=False, opset=None, optimize=False, optimizer=auto, overlap_mask=True, patience=5, perspective=0.0, plots=True, pose=12.0, pretrained=True, profile=False, project=traffic_v2, rect=False, resume=False, retina_masks=False, save=True, save_conf=False, save_crop=False, save_dir=/content/drive/MyDrive/YOLO_Traffic_Signs/traffic_v2/run12, save_frames=False, save_json=False, save_period=-1, save_txt=False, scale=0.5, seed=0, shear=0.0, show=False, show_boxes=True, show_conf=True, show_labels=True, simplify=True, single_cls=False, source=None, split=val, stream_buffer=False, task=detect, time=None, tracker=botsort.yaml, translate=0.1, val=True, verbose=True, vid_stride=1, visualize=False, warmup_bias_lr=0.1, warmup_epochs=3.0, warmup_momentum=0.8, weight_decay=0.0005, workers=8, workspace=None\n",
            "\u001b[KDownloading https://ultralytics.com/assets/Arial.ttf to '/root/.config/Ultralytics/Arial.ttf': 100% ━━━━━━━━━━━━ 755.1KB 108.8MB/s 0.0s\n",
            "Overriding model.yaml nc=80 with nc=4\n",
            "\n",
            "                   from  n    params  module                                       arguments                     \n",
            "  0                  -1  1       464  ultralytics.nn.modules.conv.Conv             [3, 16, 3, 2]                 \n",
            "  1                  -1  1      4672  ultralytics.nn.modules.conv.Conv             [16, 32, 3, 2]                \n",
            "  2                  -1  1      7360  ultralytics.nn.modules.block.C2f             [32, 32, 1, True]             \n",
            "  3                  -1  1     18560  ultralytics.nn.modules.conv.Conv             [32, 64, 3, 2]                \n",
            "  4                  -1  2     49664  ultralytics.nn.modules.block.C2f             [64, 64, 2, True]             \n",
            "  5                  -1  1     73984  ultralytics.nn.modules.conv.Conv             [64, 128, 3, 2]               \n",
            "  6                  -1  2    197632  ultralytics.nn.modules.block.C2f             [128, 128, 2, True]           \n",
            "  7                  -1  1    295424  ultralytics.nn.modules.conv.Conv             [128, 256, 3, 2]              \n",
            "  8                  -1  1    460288  ultralytics.nn.modules.block.C2f             [256, 256, 1, True]           \n",
            "  9                  -1  1    164608  ultralytics.nn.modules.block.SPPF            [256, 256, 5]                 \n",
            " 10                  -1  1         0  torch.nn.modules.upsampling.Upsample         [None, 2, 'nearest']          \n",
            " 11             [-1, 6]  1         0  ultralytics.nn.modules.conv.Concat           [1]                           \n",
            " 12                  -1  1    148224  ultralytics.nn.modules.block.C2f             [384, 128, 1]                 \n",
            " 13                  -1  1         0  torch.nn.modules.upsampling.Upsample         [None, 2, 'nearest']          \n",
            " 14             [-1, 4]  1         0  ultralytics.nn.modules.conv.Concat           [1]                           \n",
            " 15                  -1  1     37248  ultralytics.nn.modules.block.C2f             [192, 64, 1]                  \n",
            " 16                  -1  1     36992  ultralytics.nn.modules.conv.Conv             [64, 64, 3, 2]                \n",
            " 17            [-1, 12]  1         0  ultralytics.nn.modules.conv.Concat           [1]                           \n",
            " 18                  -1  1    123648  ultralytics.nn.modules.block.C2f             [192, 128, 1]                 \n",
            " 19                  -1  1    147712  ultralytics.nn.modules.conv.Conv             [128, 128, 3, 2]              \n",
            " 20             [-1, 9]  1         0  ultralytics.nn.modules.conv.Concat           [1]                           \n",
            " 21                  -1  1    493056  ultralytics.nn.modules.block.C2f             [384, 256, 1]                 \n",
            " 22        [15, 18, 21]  1    752092  ultralytics.nn.modules.head.Detect           [4, [64, 128, 256]]           \n",
            "Model summary: 129 layers, 3,011,628 parameters, 3,011,612 gradients, 8.2 GFLOPs\n",
            "\n",
            "Transferred 319/355 items from pretrained weights\n",
            "Freezing layer 'model.22.dfl.conv.weight'\n",
            "\u001b[34m\u001b[1mAMP: \u001b[0mrunning Automatic Mixed Precision (AMP) checks...\n",
            "\u001b[34m\u001b[1mAMP: \u001b[0mchecks passed ✅\n",
            "\u001b[34m\u001b[1mtrain: \u001b[0mFast image access ✅ (ping: 0.0±0.0 ms, read: 3591.8±837.4 MB/s, size: 290.1 KB)\n",
            "\u001b[K\u001b[34m\u001b[1mtrain: \u001b[0mScanning /content/yolo_dataset/train/labels... 701 images, 0 backgrounds, 0 corrupt: 100% ━━━━━━━━━━━━ 701/701 783.4it/s 0.9s\n",
            "\u001b[34m\u001b[1mtrain: \u001b[0mNew cache created: /content/yolo_dataset/train/labels.cache\n",
            "\u001b[34m\u001b[1malbumentations: \u001b[0mBlur(p=0.01, blur_limit=(3, 7)), MedianBlur(p=0.01, blur_limit=(3, 7)), ToGray(p=0.01, method='weighted_average', num_output_channels=3), CLAHE(p=0.01, clip_limit=(1.0, 4.0), tile_grid_size=(8, 8))\n",
            "\u001b[34m\u001b[1mval: \u001b[0mFast image access ✅ (ping: 0.0±0.0 ms, read: 1618.6±982.7 MB/s, size: 208.0 KB)\n",
            "\u001b[K\u001b[34m\u001b[1mval: \u001b[0mScanning /content/yolo_dataset/val/labels... 176 images, 0 backgrounds, 0 corrupt: 100% ━━━━━━━━━━━━ 176/176 648.9it/s 0.3s\n",
            "\u001b[34m\u001b[1mval: \u001b[0mNew cache created: /content/yolo_dataset/val/labels.cache\n",
            "Plotting labels to /content/drive/MyDrive/YOLO_Traffic_Signs/traffic_v2/run12/labels.jpg... \n",
            "\u001b[34m\u001b[1moptimizer:\u001b[0m 'optimizer=auto' found, ignoring 'lr0=0.01' and 'momentum=0.937' and determining best 'optimizer', 'lr0' and 'momentum' automatically... \n",
            "\u001b[34m\u001b[1moptimizer:\u001b[0m AdamW(lr=0.00125, momentum=0.9) with parameter groups 57 weight(decay=0.0), 64 weight(decay=0.0005), 63 bias(decay=0.0)\n",
            "Image sizes 640 train, 640 val\n",
            "Using 8 dataloader workers\n",
            "Logging results to \u001b[1m/content/drive/MyDrive/YOLO_Traffic_Signs/traffic_v2/run12\u001b[0m\n",
            "Starting training for 25 epochs...\n",
            "\n",
            "      Epoch    GPU_mem   box_loss   cls_loss   dfl_loss  Instances       Size\n",
            "\u001b[K       1/25      2.14G     0.8204      2.625     0.9587         30        640: 100% ━━━━━━━━━━━━ 44/44 5.5it/s 8.1s\n",
            "\u001b[K                 Class     Images  Instances      Box(P          R      mAP50  mAP50-95): 100% ━━━━━━━━━━━━ 6/6 3.5it/s 1.7s\n",
            "                   all        176        249      0.942       0.27       0.53      0.399\n",
            "\n",
            "      Epoch    GPU_mem   box_loss   cls_loss   dfl_loss  Instances       Size\n",
            "\u001b[K       2/25      2.51G     0.7895      1.433     0.9521         29        640: 100% ━━━━━━━━━━━━ 44/44 11.0it/s 4.0s\n",
            "\u001b[K                 Class     Images  Instances      Box(P          R      mAP50  mAP50-95): 100% ━━━━━━━━━━━━ 6/6 8.8it/s 0.7s\n",
            "                   all        176        249      0.578      0.582      0.608      0.476\n",
            "\n",
            "      Epoch    GPU_mem   box_loss   cls_loss   dfl_loss  Instances       Size\n",
            "\u001b[K       3/25      2.69G     0.7937      1.308     0.9746         42        640: 100% ━━━━━━━━━━━━ 44/44 12.0it/s 3.7s\n",
            "\u001b[K                 Class     Images  Instances      Box(P          R      mAP50  mAP50-95): 100% ━━━━━━━━━━━━ 6/6 9.2it/s 0.6s\n",
            "                   all        176        249      0.744      0.618       0.66      0.514\n",
            "\n",
            "      Epoch    GPU_mem   box_loss   cls_loss   dfl_loss  Instances       Size\n",
            "\u001b[K       4/25      2.71G     0.7786      1.129     0.9486         55        640: 100% ━━━━━━━━━━━━ 44/44 12.2it/s 3.6s\n",
            "\u001b[K                 Class     Images  Instances      Box(P          R      mAP50  mAP50-95): 100% ━━━━━━━━━━━━ 6/6 9.0it/s 0.7s\n",
            "                   all        176        249      0.819      0.749      0.808      0.619\n",
            "\n",
            "      Epoch    GPU_mem   box_loss   cls_loss   dfl_loss  Instances       Size\n",
            "\u001b[K       5/25      2.73G     0.7209       1.01     0.9463         24        640: 100% ━━━━━━━━━━━━ 44/44 11.7it/s 3.8s\n",
            "\u001b[K                 Class     Images  Instances      Box(P          R      mAP50  mAP50-95): 100% ━━━━━━━━━━━━ 6/6 9.1it/s 0.7s\n",
            "                   all        176        249      0.826      0.703       0.77        0.6\n",
            "\n",
            "      Epoch    GPU_mem   box_loss   cls_loss   dfl_loss  Instances       Size\n",
            "\u001b[K       6/25      2.74G     0.7493     0.9494     0.9456         39        640: 100% ━━━━━━━━━━━━ 44/44 11.7it/s 3.7s\n",
            "\u001b[K                 Class     Images  Instances      Box(P          R      mAP50  mAP50-95): 100% ━━━━━━━━━━━━ 6/6 9.5it/s 0.6s\n",
            "                   all        176        249      0.807      0.767      0.791      0.621\n",
            "\n",
            "      Epoch    GPU_mem   box_loss   cls_loss   dfl_loss  Instances       Size\n",
            "\u001b[K       7/25      2.76G      0.731     0.8709     0.9386         21        640: 100% ━━━━━━━━━━━━ 44/44 11.6it/s 3.8s\n",
            "\u001b[K                 Class     Images  Instances      Box(P          R      mAP50  mAP50-95): 100% ━━━━━━━━━━━━ 6/6 8.7it/s 0.7s\n",
            "                   all        176        249      0.907      0.836      0.891      0.698\n",
            "\n",
            "      Epoch    GPU_mem   box_loss   cls_loss   dfl_loss  Instances       Size\n",
            "\u001b[K       8/25      2.78G     0.6821     0.8102     0.9328         32        640: 100% ━━━━━━━━━━━━ 44/44 12.1it/s 3.6s\n",
            "\u001b[K                 Class     Images  Instances      Box(P          R      mAP50  mAP50-95): 100% ━━━━━━━━━━━━ 6/6 9.7it/s 0.6s\n",
            "                   all        176        249      0.878      0.841      0.863      0.682\n",
            "\n",
            "      Epoch    GPU_mem   box_loss   cls_loss   dfl_loss  Instances       Size\n",
            "\u001b[K       9/25      2.79G     0.6522     0.7311     0.9187         40        640: 100% ━━━━━━━━━━━━ 44/44 11.6it/s 3.8s\n",
            "\u001b[K                 Class     Images  Instances      Box(P          R      mAP50  mAP50-95): 100% ━━━━━━━━━━━━ 6/6 9.6it/s 0.6s\n",
            "                   all        176        249      0.922      0.851      0.916      0.716\n",
            "\n",
            "      Epoch    GPU_mem   box_loss   cls_loss   dfl_loss  Instances       Size\n",
            "\u001b[K      10/25      2.81G     0.6572     0.6858      0.911         38        640: 100% ━━━━━━━━━━━━ 44/44 11.7it/s 3.8s\n",
            "\u001b[K                 Class     Images  Instances      Box(P          R      mAP50  mAP50-95): 100% ━━━━━━━━━━━━ 6/6 10.1it/s 0.6s\n",
            "                   all        176        249      0.892      0.872      0.917      0.725\n",
            "\n",
            "      Epoch    GPU_mem   box_loss   cls_loss   dfl_loss  Instances       Size\n",
            "\u001b[K      11/25      2.83G     0.6512     0.6716     0.9081         31        640: 100% ━━━━━━━━━━━━ 44/44 11.9it/s 3.7s\n",
            "\u001b[K                 Class     Images  Instances      Box(P          R      mAP50  mAP50-95): 100% ━━━━━━━━━━━━ 6/6 9.8it/s 0.6s\n",
            "                   all        176        249      0.898      0.858      0.917      0.724\n",
            "\n",
            "      Epoch    GPU_mem   box_loss   cls_loss   dfl_loss  Instances       Size\n",
            "\u001b[K      12/25      2.85G     0.6396     0.6386     0.9068         21        640: 100% ━━━━━━━━━━━━ 44/44 12.1it/s 3.6s\n",
            "\u001b[K                 Class     Images  Instances      Box(P          R      mAP50  mAP50-95): 100% ━━━━━━━━━━━━ 6/6 9.1it/s 0.7s\n",
            "                   all        176        249      0.946      0.847      0.917      0.718\n",
            "\n",
            "      Epoch    GPU_mem   box_loss   cls_loss   dfl_loss  Instances       Size\n",
            "\u001b[K      13/25      2.86G     0.6454     0.6234     0.9104         36        640: 100% ━━━━━━━━━━━━ 44/44 11.7it/s 3.8s\n",
            "\u001b[K                 Class     Images  Instances      Box(P          R      mAP50  mAP50-95): 100% ━━━━━━━━━━━━ 6/6 10.1it/s 0.6s\n",
            "                   all        176        249      0.909      0.911      0.921      0.739\n",
            "\n",
            "      Epoch    GPU_mem   box_loss   cls_loss   dfl_loss  Instances       Size\n",
            "\u001b[K      14/25      2.88G     0.6231     0.5736      0.897         26        640: 100% ━━━━━━━━━━━━ 44/44 11.8it/s 3.7s\n",
            "\u001b[K                 Class     Images  Instances      Box(P          R      mAP50  mAP50-95): 100% ━━━━━━━━━━━━ 6/6 9.6it/s 0.6s\n",
            "                   all        176        249      0.936      0.826       0.92      0.726\n",
            "\n",
            "      Epoch    GPU_mem   box_loss   cls_loss   dfl_loss  Instances       Size\n",
            "\u001b[K      15/25       2.9G     0.5969     0.5505     0.8879         23        640: 100% ━━━━━━━━━━━━ 44/44 11.6it/s 3.8s\n",
            "\u001b[K                 Class     Images  Instances      Box(P          R      mAP50  mAP50-95): 100% ━━━━━━━━━━━━ 6/6 9.9it/s 0.6s\n",
            "                   all        176        249      0.959      0.915       0.93      0.746\n",
            "Closing dataloader mosaic\n",
            "\u001b[34m\u001b[1malbumentations: \u001b[0mBlur(p=0.01, blur_limit=(3, 7)), MedianBlur(p=0.01, blur_limit=(3, 7)), ToGray(p=0.01, method='weighted_average', num_output_channels=3), CLAHE(p=0.01, clip_limit=(1.0, 4.0), tile_grid_size=(8, 8))\n",
            "\n",
            "      Epoch    GPU_mem   box_loss   cls_loss   dfl_loss  Instances       Size\n",
            "\u001b[K      16/25      2.92G     0.5703     0.5855     0.8646         15        640: 100% ━━━━━━━━━━━━ 44/44 9.3it/s 4.7s\n",
            "\u001b[K                 Class     Images  Instances      Box(P          R      mAP50  mAP50-95): 100% ━━━━━━━━━━━━ 6/6 10.0it/s 0.6s\n",
            "                   all        176        249       0.93      0.867      0.916      0.728\n",
            "\n",
            "      Epoch    GPU_mem   box_loss   cls_loss   dfl_loss  Instances       Size\n",
            "\u001b[K      17/25      2.94G     0.5684     0.5434     0.8586         15        640: 100% ━━━━━━━━━━━━ 44/44 12.3it/s 3.6s\n",
            "\u001b[K                 Class     Images  Instances      Box(P          R      mAP50  mAP50-95): 100% ━━━━━━━━━━━━ 6/6 10.0it/s 0.6s\n",
            "                   all        176        249      0.947      0.883      0.929      0.752\n",
            "\n",
            "      Epoch    GPU_mem   box_loss   cls_loss   dfl_loss  Instances       Size\n",
            "\u001b[K      18/25      2.95G     0.5681     0.5237      0.858         18        640: 100% ━━━━━━━━━━━━ 44/44 11.7it/s 3.8s\n",
            "\u001b[K                 Class     Images  Instances      Box(P          R      mAP50  mAP50-95): 100% ━━━━━━━━━━━━ 6/6 10.0it/s 0.6s\n",
            "                   all        176        249      0.933      0.876      0.923      0.749\n",
            "\n",
            "      Epoch    GPU_mem   box_loss   cls_loss   dfl_loss  Instances       Size\n",
            "\u001b[K      19/25      2.96G     0.5436     0.4882     0.8473         19        640: 100% ━━━━━━━━━━━━ 44/44 12.1it/s 3.7s\n",
            "\u001b[K                 Class     Images  Instances      Box(P          R      mAP50  mAP50-95): 100% ━━━━━━━━━━━━ 6/6 10.1it/s 0.6s\n",
            "                   all        176        249      0.967        0.9      0.932      0.758\n",
            "\n",
            "      Epoch    GPU_mem   box_loss   cls_loss   dfl_loss  Instances       Size\n",
            "\u001b[K      20/25      2.99G     0.5402     0.4667      0.841         14        640: 100% ━━━━━━━━━━━━ 44/44 12.2it/s 3.6s\n",
            "\u001b[K                 Class     Images  Instances      Box(P          R      mAP50  mAP50-95): 100% ━━━━━━━━━━━━ 6/6 9.9it/s 0.6s\n",
            "                   all        176        249      0.932      0.882      0.934      0.767\n",
            "\n",
            "      Epoch    GPU_mem   box_loss   cls_loss   dfl_loss  Instances       Size\n",
            "\u001b[K      21/25         3G     0.5377     0.4529     0.8496         19        640: 100% ━━━━━━━━━━━━ 44/44 12.0it/s 3.7s\n",
            "\u001b[K                 Class     Images  Instances      Box(P          R      mAP50  mAP50-95): 100% ━━━━━━━━━━━━ 6/6 10.2it/s 0.6s\n",
            "                   all        176        249      0.923      0.939      0.935      0.762\n",
            "\n",
            "      Epoch    GPU_mem   box_loss   cls_loss   dfl_loss  Instances       Size\n",
            "\u001b[K      22/25      3.02G     0.5287     0.4421     0.8402         15        640: 100% ━━━━━━━━━━━━ 44/44 12.3it/s 3.6s\n",
            "\u001b[K                 Class     Images  Instances      Box(P          R      mAP50  mAP50-95): 100% ━━━━━━━━━━━━ 6/6 10.0it/s 0.6s\n",
            "                   all        176        249      0.934      0.938      0.936      0.763\n",
            "\n",
            "      Epoch    GPU_mem   box_loss   cls_loss   dfl_loss  Instances       Size\n",
            "\u001b[K      23/25      3.04G     0.5173     0.4255     0.8391         16        640: 100% ━━━━━━━━━━━━ 44/44 11.9it/s 3.7s\n",
            "\u001b[K                 Class     Images  Instances      Box(P          R      mAP50  mAP50-95): 100% ━━━━━━━━━━━━ 6/6 10.0it/s 0.6s\n",
            "                   all        176        249      0.949      0.908       0.94      0.779\n",
            "\n",
            "      Epoch    GPU_mem   box_loss   cls_loss   dfl_loss  Instances       Size\n",
            "\u001b[K      24/25      3.05G     0.5038     0.4021     0.8383         20        640: 100% ━━━━━━━━━━━━ 44/44 11.9it/s 3.7s\n",
            "\u001b[K                 Class     Images  Instances      Box(P          R      mAP50  mAP50-95): 100% ━━━━━━━━━━━━ 6/6 10.6it/s 0.6s\n",
            "                   all        176        249       0.94      0.919       0.94      0.776\n",
            "\n",
            "      Epoch    GPU_mem   box_loss   cls_loss   dfl_loss  Instances       Size\n",
            "\u001b[K      25/25      3.07G     0.4948     0.4032     0.8418         20        640: 100% ━━━━━━━━━━━━ 44/44 12.2it/s 3.6s\n",
            "\u001b[K                 Class     Images  Instances      Box(P          R      mAP50  mAP50-95): 100% ━━━━━━━━━━━━ 6/6 9.9it/s 0.6s\n",
            "                   all        176        249      0.944      0.919       0.94       0.78\n",
            "\n",
            "25 epochs completed in 0.034 hours.\n",
            "Optimizer stripped from /content/drive/MyDrive/YOLO_Traffic_Signs/traffic_v2/run12/weights/last.pt, 6.2MB\n",
            "Optimizer stripped from /content/drive/MyDrive/YOLO_Traffic_Signs/traffic_v2/run12/weights/best.pt, 6.2MB\n",
            "\n",
            "Validating /content/drive/MyDrive/YOLO_Traffic_Signs/traffic_v2/run12/weights/best.pt...\n",
            "Ultralytics 8.3.221 🚀 Python-3.12.12 torch-2.8.0+cu126 CUDA:0 (NVIDIA A100-SXM4-80GB, 81222MiB)\n",
            "Model summary (fused): 72 layers, 3,006,428 parameters, 0 gradients, 8.1 GFLOPs\n",
            "\u001b[K                 Class     Images  Instances      Box(P          R      mAP50  mAP50-95): 100% ━━━━━━━━━━━━ 6/6 5.1it/s 1.2s\n",
            "                   all        176        249      0.944      0.919       0.94      0.779\n",
            "         traffic_light         19         29      0.817      0.828      0.844       0.54\n",
            "             stop_sign         20         20      0.986          1      0.995      0.931\n",
            "           speed_limit        137        160          1      0.983      0.995      0.902\n",
            "             crosswalk         34         40      0.972      0.867      0.927      0.743\n",
            "Speed: 0.1ms preprocess, 0.4ms inference, 0.0ms loss, 1.3ms postprocess per image\n",
            "Results saved to \u001b[1m/content/drive/MyDrive/YOLO_Traffic_Signs/traffic_v2/run12\u001b[0m\n",
            "\n",
            " Eğitim tamamlandı.\n"
          ]
        }
      ]
    },
    {
      "cell_type": "code",
      "source": [
        "from datetime import datetime\n",
        "import shutil\n",
        "import os\n",
        "\n",
        "timestamp = datetime.now().strftime(\"%Y%m%d_%H%M%S\")\n",
        "project_folder = f\"YOLO_Traffic_{timestamp}\"\n",
        "\n",
        "drive_path = f\"/content/drive/MyDrive/{project_folder}\"\n",
        "os.makedirs(drive_path, exist_ok=True)\n",
        "\n",
        "print(f\"Klasör: {project_folder}\")"
      ],
      "metadata": {
        "colab": {
          "base_uri": "https://localhost:8080/"
        },
        "id": "YKA6oLYuu1X6",
        "outputId": "6bc3a0ad-9c16-4b4a-db7e-b6534bf95310"
      },
      "execution_count": 7,
      "outputs": [
        {
          "output_type": "stream",
          "name": "stdout",
          "text": [
            "Klasör: YOLO_Traffic_20251027_085054\n"
          ]
        }
      ]
    },
    {
      "cell_type": "code",
      "source": [
        "source_path = \"/content/drive/MyDrive/YOLO_Traffic_Signs/traffic_v2/run1\"\n",
        "\n",
        "if os.path.exists(source_path):\n",
        "    shutil.copytree(source_path, f\"{drive_path}/training_results\")\n",
        "    print(\"Eğitim sonuçları kaydedildi\")\n",
        "\n",
        "    important_files = [\n",
        "        \"weights/best.pt\",\n",
        "        \"weights/last.pt\",\n",
        "        \"results.png\",\n",
        "        \"confusion_matrix.png\",\n",
        "        \"results.csv\"\n",
        "    ]\n",
        "\n",
        "    print(\"\\nKaydedilen önemli dosyalar:\")\n",
        "    for file in important_files:\n",
        "        file_path = f\"{drive_path}/training_results/{file}\"\n",
        "        if os.path.exists(file_path):\n",
        "            size = os.path.getsize(file_path) / (1024*1024)  # MB\n",
        "            print(f\"  ✓ {file} ({size:.2f} MB)\")\n",
        "else:\n",
        "    print(\"Eğitim klasörü bulunamadı.\")"
      ],
      "metadata": {
        "colab": {
          "base_uri": "https://localhost:8080/"
        },
        "id": "Pt2BrKCqu1aT",
        "outputId": "61639cde-d738-4667-95a5-d5f717b9cbd6"
      },
      "execution_count": 8,
      "outputs": [
        {
          "output_type": "stream",
          "name": "stdout",
          "text": [
            "Eğitim sonuçları kaydedildi\n",
            "\n",
            "Kaydedilen önemli dosyalar:\n",
            "  ✓ weights/best.pt (5.94 MB)\n",
            "  ✓ weights/last.pt (5.94 MB)\n",
            "  ✓ results.png (0.28 MB)\n",
            "  ✓ confusion_matrix.png (0.14 MB)\n",
            "  ✓ results.csv (0.00 MB)\n"
          ]
        }
      ]
    },
    {
      "cell_type": "code",
      "source": [
        "from ultralytics import YOLO\n",
        "import cv2\n",
        "import numpy as np\n",
        "\n",
        "model_path = f\"{drive_path}/training_results/weights/best.pt\"\n",
        "model = YOLO(model_path)\n",
        "\n",
        "print(f\"Model yüklendi: {model_path}\")"
      ],
      "metadata": {
        "colab": {
          "base_uri": "https://localhost:8080/"
        },
        "id": "TvCWgF31v5yO",
        "outputId": "2bb817d8-55aa-4612-8d16-99e0197c5888"
      },
      "execution_count": 9,
      "outputs": [
        {
          "output_type": "stream",
          "name": "stdout",
          "text": [
            "Model yüklendi: /content/drive/MyDrive/YOLO_Traffic_20251027_085054/training_results/weights/best.pt\n"
          ]
        }
      ]
    },
    {
      "cell_type": "code",
      "source": [
        "results = model.val()\n",
        "print(\"\\n📈 MODEL PERFORMANSI:\")\n",
        "print(\"-\" * 40)\n",
        "print(f\"mAP50:        {results.box.map50:.3f}\")\n",
        "print(f\"mAP50-95:     {results.box.map:.3f}\")\n",
        "print(f\"Precision:    {results.box.mp:.3f}\")\n",
        "print(f\"Recall:       {results.box.mr:.3f}\")\n",
        "print(\"-\" * 40)"
      ],
      "metadata": {
        "colab": {
          "base_uri": "https://localhost:8080/"
        },
        "id": "83wmYj-7v8B1",
        "outputId": "4d758856-6239-49ca-8438-fbfdf0fca44d"
      },
      "execution_count": 10,
      "outputs": [
        {
          "output_type": "stream",
          "name": "stdout",
          "text": [
            "Ultralytics 8.3.221 🚀 Python-3.12.12 torch-2.8.0+cu126 CUDA:0 (NVIDIA A100-SXM4-80GB, 81222MiB)\n",
            "Model summary (fused): 72 layers, 3,006,428 parameters, 0 gradients, 8.1 GFLOPs\n",
            "\u001b[34m\u001b[1mval: \u001b[0mFast image access ✅ (ping: 0.0±0.0 ms, read: 2615.1±959.2 MB/s, size: 235.0 KB)\n",
            "\u001b[K\u001b[34m\u001b[1mval: \u001b[0mScanning /content/yolo_dataset/val/labels.cache... 176 images, 0 backgrounds, 0 corrupt: 100% ━━━━━━━━━━━━ 176/176 319.2Kit/s 0.0s\n",
            "\u001b[K                 Class     Images  Instances      Box(P          R      mAP50  mAP50-95): 100% ━━━━━━━━━━━━ 11/11 5.7it/s 1.9s\n",
            "                   all        176        249      0.975      0.957      0.957      0.819\n",
            "         traffic_light         19         29      0.928      0.886      0.874      0.655\n",
            "             stop_sign         20         20       0.98          1      0.995      0.943\n",
            "           speed_limit        137        160      0.994          1      0.995       0.91\n",
            "             crosswalk         34         40          1      0.941      0.964      0.769\n",
            "Speed: 1.4ms preprocess, 3.1ms inference, 0.0ms loss, 1.5ms postprocess per image\n",
            "Results saved to \u001b[1m/content/drive/MyDrive/YOLO_Traffic_Signs/runs/detect/val3\u001b[0m\n",
            "\n",
            "📈 MODEL PERFORMANSI:\n",
            "----------------------------------------\n",
            "mAP50:        0.957\n",
            "mAP50-95:     0.819\n",
            "Precision:    0.975\n",
            "Recall:       0.957\n",
            "----------------------------------------\n"
          ]
        }
      ]
    },
    {
      "cell_type": "code",
      "source": [
        "!wget -q -O test_image.jpg \"https://images.unsplash.com/photo-1558618666-fcd25c85cd64?w=640\"\n",
        "\n",
        "results = model(\"test_image.jpg\")\n",
        "\n",
        "for r in results:\n",
        "    annotated_img = r.plot()\n",
        "    cv2.imwrite(f\"{drive_path}/test_result.jpg\", annotated_img)\n",
        "\n",
        "    print(\"\\nTespit Edilenler:\")\n",
        "    if r.boxes:\n",
        "        for box in r.boxes:\n",
        "            class_id = int(box.cls)\n",
        "            confidence = float(box.conf)\n",
        "            print(f\"  • {model.names[class_id]}: %{confidence*100:.1f}\")\n",
        "    else:\n",
        "        print(\"Hiçbir şey tespit edilmedi\")\n",
        "\n",
        "print(f\"\\nTest sonucu kaydedildi: {drive_path}/test_result.jpg\")"
      ],
      "metadata": {
        "colab": {
          "base_uri": "https://localhost:8080/"
        },
        "id": "4EupCxOev8Ed",
        "outputId": "3cd2198f-dfc6-4411-c53f-af9231c0cae9"
      },
      "execution_count": 11,
      "outputs": [
        {
          "output_type": "stream",
          "name": "stdout",
          "text": [
            "\n",
            "image 1/1 /content/drive/MyDrive/YOLO_Traffic_Signs/test_image.jpg: 448x640 2 traffic_lights, 99.1ms\n",
            "Speed: 1.5ms preprocess, 99.1ms inference, 1.5ms postprocess per image at shape (1, 3, 448, 640)\n",
            "\n",
            "Tespit Edilenler:\n",
            "  • traffic_light: %76.7\n",
            "  • traffic_light: %74.3\n",
            "\n",
            "Test sonucu kaydedildi: /content/drive/MyDrive/YOLO_Traffic_20251027_085054/test_result.jpg\n"
          ]
        }
      ]
    },
    {
      "cell_type": "code",
      "source": [
        "from ultralytics import YOLO\n",
        "import json\n",
        "from datetime import datetime\n",
        "import os\n",
        "\n",
        "model_path = f\"{drive_path}/training_results/weights/best.pt\"\n",
        "model = YOLO(model_path)\n",
        "\n",
        "val_results = model.val()\n",
        "\n",
        "summary = {\n",
        "    \"tarih\": datetime.now().strftime(\"%Y-%m-%d %H:%M\"),\n",
        "    \"model\": \"YOLOv8n\",\n",
        "    \"dataset\": \"Traffic Signs\",\n",
        "    \"epochs\": 25,\n",
        "    \"performans\": {\n",
        "        \"mAP50\": float(val_results.box.map50) if hasattr(val_results.box, 'map50') else 0.0,\n",
        "        \"mAP50-95\": float(val_results.box.map) if hasattr(val_results.box, 'map') else 0.0,\n",
        "        \"precision\": float(val_results.box.mp) if hasattr(val_results.box, 'mp') else 0.0,\n",
        "        \"recall\": float(val_results.box.mr) if hasattr(val_results.box, 'mr') else 0.0\n",
        "    },\n",
        "    \"model_boyutu_mb\": os.path.getsize(model_path) / (1024*1024),\n",
        "    \"drive_klasoru\": project_folder\n",
        "}\n",
        "\n",
        "with open(f\"{drive_path}/summary.json\", \"w\") as f:\n",
        "    json.dump(summary, f, indent=4, ensure_ascii=False)\n",
        "\n",
        "print(\"\\n📋 PROJE ÖZETİ:\")\n",
        "print(\"-\" * 40)\n",
        "for key, value in summary.items():\n",
        "    if isinstance(value, dict):\n",
        "        print(f\"{key}:\")\n",
        "        for k, v in value.items():\n",
        "            if isinstance(v, float):\n",
        "                print(f\"  {k}: {v:.3f}\")\n",
        "            else:\n",
        "                print(f\"  {k}: {v}\")\n",
        "    elif isinstance(value, float):\n",
        "        print(f\"{key}: {value:.2f} MB\")\n",
        "    else:\n",
        "        print(f\"{key}: {value}\")\n",
        "print(\"-\" * 40)"
      ],
      "metadata": {
        "colab": {
          "base_uri": "https://localhost:8080/"
        },
        "id": "owQeTM6Pv8Gy",
        "outputId": "4fe09864-7bd7-40ba-d5e1-5244e246af01"
      },
      "execution_count": 12,
      "outputs": [
        {
          "output_type": "stream",
          "name": "stdout",
          "text": [
            "Ultralytics 8.3.221 🚀 Python-3.12.12 torch-2.8.0+cu126 CUDA:0 (NVIDIA A100-SXM4-80GB, 81222MiB)\n",
            "Model summary (fused): 72 layers, 3,006,428 parameters, 0 gradients, 8.1 GFLOPs\n",
            "\u001b[34m\u001b[1mval: \u001b[0mFast image access ✅ (ping: 0.0±0.0 ms, read: 3347.8±783.7 MB/s, size: 231.3 KB)\n",
            "\u001b[K\u001b[34m\u001b[1mval: \u001b[0mScanning /content/yolo_dataset/val/labels.cache... 176 images, 0 backgrounds, 0 corrupt: 100% ━━━━━━━━━━━━ 176/176 363.8Kit/s 0.0s\n",
            "\u001b[K                 Class     Images  Instances      Box(P          R      mAP50  mAP50-95): 100% ━━━━━━━━━━━━ 11/11 5.5it/s 2.0s\n",
            "                   all        176        249      0.975      0.957      0.957      0.819\n",
            "         traffic_light         19         29      0.928      0.886      0.874      0.655\n",
            "             stop_sign         20         20       0.98          1      0.995      0.943\n",
            "           speed_limit        137        160      0.994          1      0.995       0.91\n",
            "             crosswalk         34         40          1      0.941      0.964      0.769\n",
            "Speed: 1.6ms preprocess, 1.2ms inference, 0.0ms loss, 1.2ms postprocess per image\n",
            "Results saved to \u001b[1m/content/drive/MyDrive/YOLO_Traffic_Signs/runs/detect/val4\u001b[0m\n",
            "\n",
            "📋 PROJE ÖZETİ:\n",
            "----------------------------------------\n",
            "tarih: 2025-10-27 08:51\n",
            "model: YOLOv8n\n",
            "dataset: Traffic Signs\n",
            "epochs: 25\n",
            "performans:\n",
            "  mAP50: 0.957\n",
            "  mAP50-95: 0.819\n",
            "  precision: 0.975\n",
            "  recall: 0.957\n",
            "model_boyutu_mb: 5.94 MB\n",
            "drive_klasoru: YOLO_Traffic_20251027_085054\n",
            "----------------------------------------\n"
          ]
        }
      ]
    },
    {
      "cell_type": "code",
      "source": [
        "print(\"\\nGOOGLE DRIVE'A KAYDEDİLENLER:\")\n",
        "print(f\"Klasör: /My Drive/{project_folder}\")\n",
        "print(\"\\nİçerik:\")\n",
        "\n",
        "for root, dirs, files in os.walk(drive_path):\n",
        "    level = root.replace(drive_path, '').count(os.sep)\n",
        "    indent = ' ' * 2 * level\n",
        "    print(f'{indent}{os.path.basename(root)}/')\n",
        "\n",
        "    important_extensions = ['.pt', '.png', '.json', '.csv', '.jpg']\n",
        "    subindent = ' ' * 2 * (level + 1)\n",
        "    for file in files[:10]:  # İlk 10 dosya\n",
        "        if any(file.endswith(ext) for ext in important_extensions):\n",
        "            size = os.path.getsize(os.path.join(root, file)) / 1024\n",
        "            print(f'{subindent}{file} ({size:.1f} KB)')\n",
        "\n",
        "print(\"\\nTÜM VERİLER KAYDEDİLDİ\")\n",
        "print(f\"Drive konumu: /My Drive/{project_folder}\")"
      ],
      "metadata": {
        "colab": {
          "base_uri": "https://localhost:8080/"
        },
        "id": "R0roln5RwSEh",
        "outputId": "f851f177-747d-44e5-b7e3-948ab284be59"
      },
      "execution_count": 13,
      "outputs": [
        {
          "output_type": "stream",
          "name": "stdout",
          "text": [
            "\n",
            "GOOGLE DRIVE'A KAYDEDİLENLER:\n",
            "Klasör: /My Drive/YOLO_Traffic_20251027_085054\n",
            "\n",
            "İçerik:\n",
            "YOLO_Traffic_20251027_085054/\n",
            "  test_result.jpg (63.0 KB)\n",
            "  summary.json (0.4 KB)\n",
            "  training_results/\n",
            "    labels.jpg (153.8 KB)\n",
            "    train_batch0.jpg (506.1 KB)\n",
            "    train_batch1.jpg (448.3 KB)\n",
            "    train_batch2.jpg (467.6 KB)\n",
            "    train_batch660.jpg (394.4 KB)\n",
            "    train_batch661.jpg (385.7 KB)\n",
            "    train_batch662.jpg (334.6 KB)\n",
            "    val_batch0_labels.jpg (434.3 KB)\n",
            "    val_batch0_pred.jpg (451.1 KB)\n",
            "    weights/\n",
            "      best.pt (6087.5 KB)\n",
            "      last.pt (6087.5 KB)\n",
            "\n",
            "TÜM VERİLER KAYDEDİLDİ\n",
            "Drive konumu: /My Drive/YOLO_Traffic_20251027_085054\n"
          ]
        }
      ]
    },
    {
      "cell_type": "code",
      "source": [
        "import os\n",
        "import pandas as pd\n",
        "import matplotlib.pyplot as plt\n",
        "\n",
        "csv_path = \"/content/drive/MyDrive/YOLO_Traffic_20251025_190015/training_results/results.csv\"\n",
        "drive_path = os.path.dirname(csv_path)  # aynı klasöre kaydetmek için\n",
        "\n",
        "if os.path.exists(csv_path):\n",
        "    df = pd.read_csv(csv_path)\n",
        "    df.columns = df.columns.str.strip()\n",
        "\n",
        "    fig, (ax1, ax2) = plt.subplots(1, 2, figsize=(12, 4))\n",
        "\n",
        "    # Loss grafiği\n",
        "    if 'train/box_loss' in df.columns:\n",
        "        ax1.plot(df.index, df['train/box_loss'], label='Train Loss')\n",
        "    if 'val/box_loss' in df.columns:\n",
        "        ax1.plot(df.index, df['val/box_loss'], label='Val Loss')\n",
        "    ax1.set_xlabel('Epoch')\n",
        "    ax1.set_ylabel('Loss')\n",
        "    ax1.set_title('Training vs Validation Loss')\n",
        "    ax1.legend()\n",
        "\n",
        "    if 'metrics/mAP50(B)' in df.columns:\n",
        "        ax2.plot(df.index, df['metrics/mAP50(B)'], label='mAP50', color='green')\n",
        "    if 'metrics/mAP50-95(B)' in df.columns:\n",
        "        ax2.plot(df.index, df['metrics/mAP50-95(B)'], label='mAP50-95', color='blue')\n",
        "    ax2.set_xlabel('Epoch')\n",
        "    ax2.set_ylabel('mAP')\n",
        "    ax2.set_title('Model Performance')\n",
        "    ax2.legend()\n",
        "\n",
        "    plt.tight_layout()\n",
        "    save_path = os.path.join(drive_path, \"training_graphs.png\")\n",
        "    plt.savefig(save_path)\n",
        "    plt.show()\n",
        "\n",
        "    print(f\"Grafikler kaydedildi: {save_path}\")\n",
        "else:\n",
        "    print(\"CSV dosyası bulunamadı.\")\n"
      ],
      "metadata": {
        "colab": {
          "base_uri": "https://localhost:8080/",
          "height": 425
        },
        "id": "OCJaG4NUwVae",
        "outputId": "cb17c5e7-c337-4c5a-efda-f408d1a93370"
      },
      "execution_count": 14,
      "outputs": [
        {
          "output_type": "display_data",
          "data": {
            "text/plain": [
              "<Figure size 1200x400 with 2 Axes>"
            ],
            "image/png": "[encoded data removed]"
          },
          "metadata": {}
        },
        {
          "output_type": "stream",
          "name": "stdout",
          "text": [
            "Grafikler kaydedildi: /content/drive/MyDrive/YOLO_Traffic_20251025_190015/training_results/training_graphs.png\n"
          ]
        }
      ]
    }
  ]
}